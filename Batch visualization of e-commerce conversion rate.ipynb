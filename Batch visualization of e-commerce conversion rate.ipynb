{
 "cells": [
  {
   "cell_type": "code",
   "execution_count": 3,
   "id": "e9376e12",
   "metadata": {},
   "outputs": [],
   "source": [
    "import pandas as pd \n",
    "import matplotlib.pyplot as plt"
   ]
  },
  {
   "cell_type": "code",
   "execution_count": 4,
   "id": "947f0d83",
   "metadata": {},
   "outputs": [],
   "source": [
    "df2020=pd.read_csv(\"C:/Users/shirl/OneDrive/Desktop/python/python projects/Lily/Order form for the first half of 2020.csv\")\n",
    "df2019=pd.read_csv(\"C:/Users/shirl/OneDrive/Desktop/python/python projects/Lily/Order form for the second half of 2019.csv\")"
   ]
  },
  {
   "cell_type": "code",
   "execution_count": 5,
   "id": "4bed5060",
   "metadata": {},
   "outputs": [],
   "source": [
    "dfYear=pd.concat([df2019,df2020])"
   ]
  },
  {
   "cell_type": "code",
   "execution_count": 6,
   "id": "b799ea12",
   "metadata": {},
   "outputs": [
    {
     "data": {
      "text/html": [
       "<div>\n",
       "<style scoped>\n",
       "    .dataframe tbody tr th:only-of-type {\n",
       "        vertical-align: middle;\n",
       "    }\n",
       "\n",
       "    .dataframe tbody tr th {\n",
       "        vertical-align: top;\n",
       "    }\n",
       "\n",
       "    .dataframe thead th {\n",
       "        text-align: right;\n",
       "    }\n",
       "</style>\n",
       "<table border=\"1\" class=\"dataframe\">\n",
       "  <thead>\n",
       "    <tr style=\"text-align: right;\">\n",
       "      <th></th>\n",
       "      <th>Order Number</th>\n",
       "      <th>Product ID</th>\n",
       "      <th>Product Name</th>\n",
       "      <th>Sale_price</th>\n",
       "      <th>Amount</th>\n",
       "      <th>Total_price</th>\n",
       "      <th>Order_date</th>\n",
       "    </tr>\n",
       "  </thead>\n",
       "  <tbody>\n",
       "    <tr>\n",
       "      <th>0</th>\n",
       "      <td>700010201907010015</td>\n",
       "      <td>700010</td>\n",
       "      <td>kid's mask</td>\n",
       "      <td>20</td>\n",
       "      <td>22</td>\n",
       "      <td>440</td>\n",
       "      <td>2019-07-01 08:00:15</td>\n",
       "    </tr>\n",
       "    <tr>\n",
       "      <th>1</th>\n",
       "      <td>700011201907010015</td>\n",
       "      <td>700011</td>\n",
       "      <td>socks</td>\n",
       "      <td>5</td>\n",
       "      <td>19</td>\n",
       "      <td>95</td>\n",
       "      <td>2019-07-01 08:00:15</td>\n",
       "    </tr>\n",
       "    <tr>\n",
       "      <th>2</th>\n",
       "      <td>700010201907014510</td>\n",
       "      <td>700010</td>\n",
       "      <td>kid's mask</td>\n",
       "      <td>20</td>\n",
       "      <td>20</td>\n",
       "      <td>400</td>\n",
       "      <td>2019-07-01 08:45:10</td>\n",
       "    </tr>\n",
       "    <tr>\n",
       "      <th>3</th>\n",
       "      <td>700011201907014510</td>\n",
       "      <td>700011</td>\n",
       "      <td>socks</td>\n",
       "      <td>5</td>\n",
       "      <td>17</td>\n",
       "      <td>85</td>\n",
       "      <td>2019-07-01 08:45:10</td>\n",
       "    </tr>\n",
       "    <tr>\n",
       "      <th>4</th>\n",
       "      <td>700010201907010338</td>\n",
       "      <td>700010</td>\n",
       "      <td>kid's mask</td>\n",
       "      <td>20</td>\n",
       "      <td>24</td>\n",
       "      <td>480</td>\n",
       "      <td>2019-07-01 10:03:38</td>\n",
       "    </tr>\n",
       "  </tbody>\n",
       "</table>\n",
       "</div>"
      ],
      "text/plain": [
       "         Order Number  Product ID Product Name  Sale_price  Amount  \\\n",
       "0  700010201907010015      700010   kid's mask          20      22   \n",
       "1  700011201907010015      700011        socks           5      19   \n",
       "2  700010201907014510      700010   kid's mask          20      20   \n",
       "3  700011201907014510      700011        socks           5      17   \n",
       "4  700010201907010338      700010   kid's mask          20      24   \n",
       "\n",
       "   Total_price           Order_date  \n",
       "0          440  2019-07-01 08:00:15  \n",
       "1           95  2019-07-01 08:00:15  \n",
       "2          400  2019-07-01 08:45:10  \n",
       "3           85  2019-07-01 08:45:10  \n",
       "4          480  2019-07-01 10:03:38  "
      ]
     },
     "execution_count": 6,
     "metadata": {},
     "output_type": "execute_result"
    }
   ],
   "source": [
    "dfYear.head()"
   ]
  },
  {
   "cell_type": "code",
   "execution_count": 7,
   "id": "85ec7435",
   "metadata": {},
   "outputs": [
    {
     "name": "stdout",
     "output_type": "stream",
     "text": [
      "<class 'pandas.core.frame.DataFrame'>\n",
      "Int64Index: 29734 entries, 0 to 20603\n",
      "Data columns (total 7 columns):\n",
      " #   Column        Non-Null Count  Dtype \n",
      "---  ------        --------------  ----- \n",
      " 0   Order Number  29734 non-null  int64 \n",
      " 1   Product ID    29734 non-null  int64 \n",
      " 2   Product Name  29734 non-null  object\n",
      " 3   Sale_price    29734 non-null  int64 \n",
      " 4   Amount        29734 non-null  int64 \n",
      " 5   Total_price   29734 non-null  int64 \n",
      " 6   Order_date    29734 non-null  object\n",
      "dtypes: int64(5), object(2)\n",
      "memory usage: 1.8+ MB\n"
     ]
    }
   ],
   "source": [
    "dfYear.info()"
   ]
  },
  {
   "cell_type": "code",
   "execution_count": 8,
   "id": "e98ede43",
   "metadata": {},
   "outputs": [],
   "source": [
    "dfYear[\"Order_date\"]=pd.to_datetime(dfYear[\"Order_date\"])\n",
    "dfnewYear=dfYear.set_index(\"Order_date\")"
   ]
  },
  {
   "cell_type": "code",
   "execution_count": 9,
   "id": "d4bafa10",
   "metadata": {},
   "outputs": [],
   "source": [
    "dfSales=dfnewYear[\"Amount\"].groupby(dfnewYear[\"Product ID\"]).resample(\"M\").sum()\n",
    "dfnewSales=dfSales.reset_index()\n",
    "dfnewSales[\"Order_date\"]=dfnewSales[\"Order_date\"].dt.strftime(\"%Y-%m\")"
   ]
  },
  {
   "cell_type": "code",
   "execution_count": 10,
   "id": "fb98c3fe",
   "metadata": {},
   "outputs": [],
   "source": [
    "dfEV=pd.read_csv(\"C:/Users/shirl/OneDrive/Desktop/python/python projects/Lily/Exposure.csv\")"
   ]
  },
  {
   "cell_type": "code",
   "execution_count": 11,
   "id": "43635cdd",
   "metadata": {},
   "outputs": [
    {
     "name": "stdout",
     "output_type": "stream",
     "text": [
      "<class 'pandas.core.frame.DataFrame'>\n",
      "RangeIndex: 72 entries, 0 to 71\n",
      "Data columns (total 3 columns):\n",
      " #   Column    Non-Null Count  Dtype \n",
      "---  ------    --------------  ----- \n",
      " 0   Month     72 non-null     object\n",
      " 1   ID        72 non-null     int64 \n",
      " 2   Exposure  72 non-null     int64 \n",
      "dtypes: int64(2), object(1)\n",
      "memory usage: 1.8+ KB\n"
     ]
    }
   ],
   "source": [
    "dfEV.info()"
   ]
  },
  {
   "cell_type": "code",
   "execution_count": 12,
   "id": "f3b5b5de",
   "metadata": {},
   "outputs": [
    {
     "data": {
      "text/html": [
       "<div>\n",
       "<style scoped>\n",
       "    .dataframe tbody tr th:only-of-type {\n",
       "        vertical-align: middle;\n",
       "    }\n",
       "\n",
       "    .dataframe tbody tr th {\n",
       "        vertical-align: top;\n",
       "    }\n",
       "\n",
       "    .dataframe thead th {\n",
       "        text-align: right;\n",
       "    }\n",
       "</style>\n",
       "<table border=\"1\" class=\"dataframe\">\n",
       "  <thead>\n",
       "    <tr style=\"text-align: right;\">\n",
       "      <th></th>\n",
       "      <th>Month</th>\n",
       "      <th>ID</th>\n",
       "      <th>Exposure</th>\n",
       "    </tr>\n",
       "  </thead>\n",
       "  <tbody>\n",
       "    <tr>\n",
       "      <th>0</th>\n",
       "      <td>2019-07</td>\n",
       "      <td>700010</td>\n",
       "      <td>130013</td>\n",
       "    </tr>\n",
       "    <tr>\n",
       "      <th>1</th>\n",
       "      <td>2019-07</td>\n",
       "      <td>700011</td>\n",
       "      <td>26001</td>\n",
       "    </tr>\n",
       "    <tr>\n",
       "      <th>2</th>\n",
       "      <td>2019-07</td>\n",
       "      <td>700012</td>\n",
       "      <td>30990</td>\n",
       "    </tr>\n",
       "    <tr>\n",
       "      <th>3</th>\n",
       "      <td>2019-07</td>\n",
       "      <td>700013</td>\n",
       "      <td>30010</td>\n",
       "    </tr>\n",
       "    <tr>\n",
       "      <th>4</th>\n",
       "      <td>2019-07</td>\n",
       "      <td>700014</td>\n",
       "      <td>30381</td>\n",
       "    </tr>\n",
       "  </tbody>\n",
       "</table>\n",
       "</div>"
      ],
      "text/plain": [
       "     Month      ID  Exposure\n",
       "0  2019-07  700010    130013\n",
       "1  2019-07  700011     26001\n",
       "2  2019-07  700012     30990\n",
       "3  2019-07  700013     30010\n",
       "4  2019-07  700014     30381"
      ]
     },
     "execution_count": 12,
     "metadata": {},
     "output_type": "execute_result"
    }
   ],
   "source": [
    "dfEV.head()"
   ]
  },
  {
   "cell_type": "code",
   "execution_count": 13,
   "id": "612186b9",
   "metadata": {},
   "outputs": [],
   "source": [
    "dfTotal = pd.merge(dfEV,dfnewSales,left_on=[\"ID\",\"Month\"],right_on=[\"Product ID\",\"Order_date\"])"
   ]
  },
  {
   "cell_type": "code",
   "execution_count": 14,
   "id": "3d501e3e",
   "metadata": {},
   "outputs": [],
   "source": [
    "df=dfTotal[[\"Month\",\"ID\",\"Exposure\",\"Amount\"]]"
   ]
  },
  {
   "cell_type": "code",
   "execution_count": 15,
   "id": "7645f1d1",
   "metadata": {},
   "outputs": [
    {
     "name": "stderr",
     "output_type": "stream",
     "text": [
      "<ipython-input-15-ac13d72e33cd>:1: SettingWithCopyWarning: \n",
      "A value is trying to be set on a copy of a slice from a DataFrame.\n",
      "Try using .loc[row_indexer,col_indexer] = value instead\n",
      "\n",
      "See the caveats in the documentation: https://pandas.pydata.org/pandas-docs/stable/user_guide/indexing.html#returning-a-view-versus-a-copy\n",
      "  df[\"Purchase_conv_rt\"]=df[\"Amount\"]/df[\"Exposure\"]\n"
     ]
    }
   ],
   "source": [
    "df[\"Purchase_conv_rt\"]=df[\"Amount\"]/df[\"Exposure\"]"
   ]
  },
  {
   "cell_type": "code",
   "execution_count": 16,
   "id": "bcb94e04",
   "metadata": {},
   "outputs": [],
   "source": [
    "df = df.set_index(df[\"ID\"])\n",
    "df1 = df.groupby(df[\"ID\"]).count()\n",
    "index=df1.index"
   ]
  },
  {
   "cell_type": "code",
   "execution_count": 17,
   "id": "1687cf58",
   "metadata": {},
   "outputs": [],
   "source": [
    "plt.rcParams[\"font.sans-serif\"]=\"Times New Roman\""
   ]
  },
  {
   "cell_type": "code",
   "execution_count": 18,
   "id": "66018d77",
   "metadata": {},
   "outputs": [
    {
     "data": {
      "image/png": "[encoded data removed]",
      "text/plain": [
       "<Figure size 432x288 with 6 Axes>"
      ]
     },
     "metadata": {
      "needs_background": "light"
     },
     "output_type": "display_data"
    }
   ],
   "source": [
    "for i in range(len(index)):\n",
    "    plt.subplot(2,3,i+1)\n",
    "    df2 = df[df[\"ID\"]== index[i]]\n",
    "    plt.plot(df2[\"Month\"],df2[\"Purchase_conv_rt\"].round(2),color=\"orange\",marker=\"o\",label=\"Conversion rate\")\n",
    "    plt.xticks(rotation=90)\n",
    "    plt.ylim(0,0.3)\n",
    "    plt.legend()\n",
    "    plt.title(index[i])\n",
    "plt.tight_layout()\n",
    "plt.show()"
   ]
  },
  {
   "cell_type": "code",
   "execution_count": null,
   "id": "63f59cc4",
   "metadata": {},
   "outputs": [],
   "source": []
  }
 ],
 "metadata": {
  "kernelspec": {
   "display_name": "Python 3",
   "language": "python",
   "name": "python3"
  },
  "language_info": {
   "codemirror_mode": {
    "name": "ipython",
    "version": 3
   },
   "file_extension": ".py",
   "mimetype": "text/x-python",
   "name": "python",
   "nbconvert_exporter": "python",
   "pygments_lexer": "ipython3",
   "version": "3.8.8"
  }
 },
 "nbformat": 4,
 "nbformat_minor": 5
}
