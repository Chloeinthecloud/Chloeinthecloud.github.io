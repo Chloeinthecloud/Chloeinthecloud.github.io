{
 "cells": [
  {
   "cell_type": "code",
   "execution_count": 1,
   "id": "348cb68b",
   "metadata": {},
   "outputs": [],
   "source": [
    "import pandas as pd"
   ]
  },
  {
   "cell_type": "code",
   "execution_count": 4,
   "id": "70dfd5de",
   "metadata": {},
   "outputs": [],
   "source": [
    "df = pd.read_csv(\"C:/Users/shirl/OneDrive/Desktop/python/python projects/bilibili.csv\")"
   ]
  },
  {
   "cell_type": "code",
   "execution_count": 5,
   "id": "04cda717",
   "metadata": {},
   "outputs": [
    {
     "name": "stdout",
     "output_type": "stream",
     "text": [
      "<class 'pandas.core.frame.DataFrame'>\n",
      "RangeIndex: 99520 entries, 0 to 99519\n",
      "Data columns (total 11 columns):\n",
      " #   Column    Non-Null Count  Dtype  \n",
      "---  ------    --------------  -----  \n",
      " 0   分区        99520 non-null  object \n",
      " 1   author    99520 non-null  object \n",
      " 2   coins     99519 non-null  float64\n",
      " 3   danmu     99519 non-null  float64\n",
      " 4   favorite  99519 non-null  float64\n",
      " 5   likes     99519 non-null  float64\n",
      " 6   reply     99519 non-null  float64\n",
      " 7   share     99519 non-null  float64\n",
      " 8   view      99519 non-null  float64\n",
      " 9   title     99520 non-null  object \n",
      " 10  date      99520 non-null  object \n",
      "dtypes: float64(7), object(4)\n",
      "memory usage: 8.4+ MB\n"
     ]
    }
   ],
   "source": [
    "df.info()"
   ]
  },
  {
   "cell_type": "code",
   "execution_count": null,
   "id": "4a28363c",
   "metadata": {},
   "outputs": [],
   "source": [
    "# DATA CLEANING"
   ]
  },
  {
   "cell_type": "code",
   "execution_count": 6,
   "id": "9051f07f",
   "metadata": {},
   "outputs": [],
   "source": [
    "df_null = df.isnull().sum()"
   ]
  },
  {
   "cell_type": "code",
   "execution_count": 7,
   "id": "e190823a",
   "metadata": {},
   "outputs": [
    {
     "data": {
      "text/plain": [
       "分区          0\n",
       "author      0\n",
       "coins       1\n",
       "danmu       1\n",
       "favorite    1\n",
       "likes       1\n",
       "reply       1\n",
       "share       1\n",
       "view        1\n",
       "title       0\n",
       "date        0\n",
       "dtype: int64"
      ]
     },
     "execution_count": 7,
     "metadata": {},
     "output_type": "execute_result"
    }
   ],
   "source": [
    "df_null"
   ]
  },
  {
   "cell_type": "code",
   "execution_count": 8,
   "id": "50e516bd",
   "metadata": {},
   "outputs": [],
   "source": [
    "df = df.dropna()"
   ]
  },
  {
   "cell_type": "code",
   "execution_count": 9,
   "id": "c50db60d",
   "metadata": {},
   "outputs": [
    {
     "name": "stdout",
     "output_type": "stream",
     "text": [
      "<class 'pandas.core.frame.DataFrame'>\n",
      "Int64Index: 99519 entries, 0 to 99519\n",
      "Data columns (total 11 columns):\n",
      " #   Column    Non-Null Count  Dtype  \n",
      "---  ------    --------------  -----  \n",
      " 0   分区        99519 non-null  object \n",
      " 1   author    99519 non-null  object \n",
      " 2   coins     99519 non-null  float64\n",
      " 3   danmu     99519 non-null  float64\n",
      " 4   favorite  99519 non-null  float64\n",
      " 5   likes     99519 non-null  float64\n",
      " 6   reply     99519 non-null  float64\n",
      " 7   share     99519 non-null  float64\n",
      " 8   view      99519 non-null  float64\n",
      " 9   title     99519 non-null  object \n",
      " 10  date      99519 non-null  object \n",
      "dtypes: float64(7), object(4)\n",
      "memory usage: 9.1+ MB\n"
     ]
    }
   ],
   "source": [
    "df.info()"
   ]
  },
  {
   "cell_type": "code",
   "execution_count": 10,
   "id": "daf6c975",
   "metadata": {},
   "outputs": [],
   "source": [
    "df = df.drop_duplicates()"
   ]
  },
  {
   "cell_type": "code",
   "execution_count": 11,
   "id": "4834778c",
   "metadata": {},
   "outputs": [
    {
     "name": "stdout",
     "output_type": "stream",
     "text": [
      "<class 'pandas.core.frame.DataFrame'>\n",
      "Int64Index: 99343 entries, 0 to 99518\n",
      "Data columns (total 11 columns):\n",
      " #   Column    Non-Null Count  Dtype  \n",
      "---  ------    --------------  -----  \n",
      " 0   分区        99343 non-null  object \n",
      " 1   author    99343 non-null  object \n",
      " 2   coins     99343 non-null  float64\n",
      " 3   danmu     99343 non-null  float64\n",
      " 4   favorite  99343 non-null  float64\n",
      " 5   likes     99343 non-null  float64\n",
      " 6   reply     99343 non-null  float64\n",
      " 7   share     99343 non-null  float64\n",
      " 8   view      99343 non-null  float64\n",
      " 9   title     99343 non-null  object \n",
      " 10  date      99343 non-null  object \n",
      "dtypes: float64(7), object(4)\n",
      "memory usage: 9.1+ MB\n"
     ]
    }
   ],
   "source": [
    "df.info()"
   ]
  },
  {
   "cell_type": "code",
   "execution_count": 12,
   "id": "35e98349",
   "metadata": {},
   "outputs": [],
   "source": [
    "count = df[\"title\"].groupby(df[\"author\"]).count().reset_index()"
   ]
  },
  {
   "cell_type": "code",
   "execution_count": 13,
   "id": "58e8f4a1",
   "metadata": {},
   "outputs": [
    {
     "data": {
      "text/html": [
       "<div>\n",
       "<style scoped>\n",
       "    .dataframe tbody tr th:only-of-type {\n",
       "        vertical-align: middle;\n",
       "    }\n",
       "\n",
       "    .dataframe tbody tr th {\n",
       "        vertical-align: top;\n",
       "    }\n",
       "\n",
       "    .dataframe thead th {\n",
       "        text-align: right;\n",
       "    }\n",
       "</style>\n",
       "<table border=\"1\" class=\"dataframe\">\n",
       "  <thead>\n",
       "    <tr style=\"text-align: right;\">\n",
       "      <th></th>\n",
       "      <th>分区</th>\n",
       "      <th>author</th>\n",
       "      <th>coins</th>\n",
       "      <th>danmu</th>\n",
       "      <th>favorite</th>\n",
       "      <th>likes</th>\n",
       "      <th>reply</th>\n",
       "      <th>share</th>\n",
       "      <th>view</th>\n",
       "      <th>title</th>\n",
       "      <th>date</th>\n",
       "    </tr>\n",
       "  </thead>\n",
       "  <tbody>\n",
       "    <tr>\n",
       "      <th>0</th>\n",
       "      <td>科学科普</td>\n",
       "      <td>视频传奇</td>\n",
       "      <td>0.0</td>\n",
       "      <td>0.0</td>\n",
       "      <td>0.0</td>\n",
       "      <td>0.0</td>\n",
       "      <td>0.0</td>\n",
       "      <td>0.0</td>\n",
       "      <td>0.0</td>\n",
       "      <td>SpaceX 实现首次商业载人航天发射 4K 超高清  英语原音未加工</td>\n",
       "      <td>05/31/2020 16:59:27</td>\n",
       "    </tr>\n",
       "    <tr>\n",
       "      <th>1</th>\n",
       "      <td>科学科普</td>\n",
       "      <td>鹿哥来了-</td>\n",
       "      <td>0.0</td>\n",
       "      <td>0.0</td>\n",
       "      <td>0.0</td>\n",
       "      <td>0.0</td>\n",
       "      <td>0.0</td>\n",
       "      <td>0.0</td>\n",
       "      <td>1.0</td>\n",
       "      <td>【科普】历史上最杠精的人，从逻辑层面让你怀疑人生。</td>\n",
       "      <td>05/31/2020 16:58:37</td>\n",
       "    </tr>\n",
       "    <tr>\n",
       "      <th>2</th>\n",
       "      <td>科学科普</td>\n",
       "      <td>迟小到不迟到</td>\n",
       "      <td>0.0</td>\n",
       "      <td>0.0</td>\n",
       "      <td>0.0</td>\n",
       "      <td>0.0</td>\n",
       "      <td>0.0</td>\n",
       "      <td>0.0</td>\n",
       "      <td>0.0</td>\n",
       "      <td>[1080P注释]宇宙尺寸比较 2020</td>\n",
       "      <td>05/31/2020 16:58:36</td>\n",
       "    </tr>\n",
       "    <tr>\n",
       "      <th>3</th>\n",
       "      <td>科学科普</td>\n",
       "      <td>Sn1985a</td>\n",
       "      <td>0.0</td>\n",
       "      <td>0.0</td>\n",
       "      <td>0.0</td>\n",
       "      <td>0.0</td>\n",
       "      <td>0.0</td>\n",
       "      <td>0.0</td>\n",
       "      <td>0.0</td>\n",
       "      <td>钱德拉X射线天文台带你观赏强射电源天鹅座A（类星体3C405）</td>\n",
       "      <td>05/31/2020 16:58:31</td>\n",
       "    </tr>\n",
       "    <tr>\n",
       "      <th>4</th>\n",
       "      <td>科学科普</td>\n",
       "      <td>I-am-Rex</td>\n",
       "      <td>0.0</td>\n",
       "      <td>0.0</td>\n",
       "      <td>0.0</td>\n",
       "      <td>0.0</td>\n",
       "      <td>0.0</td>\n",
       "      <td>0.0</td>\n",
       "      <td>0.0</td>\n",
       "      <td>[当一切公理化]1+1=2 ！/1+1=2 ？</td>\n",
       "      <td>05/31/2020 16:58:23</td>\n",
       "    </tr>\n",
       "  </tbody>\n",
       "</table>\n",
       "</div>"
      ],
      "text/plain": [
       "     分区    author  coins  danmu  favorite  likes  reply  share  view  \\\n",
       "0  科学科普      视频传奇    0.0    0.0       0.0    0.0    0.0    0.0   0.0   \n",
       "1  科学科普     鹿哥来了-    0.0    0.0       0.0    0.0    0.0    0.0   1.0   \n",
       "2  科学科普    迟小到不迟到    0.0    0.0       0.0    0.0    0.0    0.0   0.0   \n",
       "3  科学科普   Sn1985a    0.0    0.0       0.0    0.0    0.0    0.0   0.0   \n",
       "4  科学科普  I-am-Rex    0.0    0.0       0.0    0.0    0.0    0.0   0.0   \n",
       "\n",
       "                                 title                 date  \n",
       "0  SpaceX 实现首次商业载人航天发射 4K 超高清  英语原音未加工  05/31/2020 16:59:27  \n",
       "1            【科普】历史上最杠精的人，从逻辑层面让你怀疑人生。  05/31/2020 16:58:37  \n",
       "2                 [1080P注释]宇宙尺寸比较 2020  05/31/2020 16:58:36  \n",
       "3      钱德拉X射线天文台带你观赏强射电源天鹅座A（类星体3C405）  05/31/2020 16:58:31  \n",
       "4              [当一切公理化]1+1=2 ！/1+1=2 ？  05/31/2020 16:58:23  "
      ]
     },
     "execution_count": 13,
     "metadata": {},
     "output_type": "execute_result"
    }
   ],
   "source": [
    "df.head()"
   ]
  },
  {
   "cell_type": "code",
   "execution_count": 14,
   "id": "2e004257",
   "metadata": {},
   "outputs": [],
   "source": [
    "# BUILD AN IFL MODEL"
   ]
  },
  {
   "cell_type": "code",
   "execution_count": 15,
   "id": "faf7e5ed",
   "metadata": {},
   "outputs": [],
   "source": [
    "# Filtering out bloggers with less than 5 videos and less than 5 bloggers does not represent the quality of bloggers."
   ]
  },
  {
   "cell_type": "code",
   "execution_count": 16,
   "id": "d8e84285",
   "metadata": {},
   "outputs": [],
   "source": [
    "count.columns = ['author','times']"
   ]
  },
  {
   "cell_type": "code",
   "execution_count": 17,
   "id": "7a77acbd",
   "metadata": {},
   "outputs": [],
   "source": [
    "com = count[count['times']>=5]"
   ]
  },
  {
   "cell_type": "code",
   "execution_count": 18,
   "id": "6b544f9a",
   "metadata": {},
   "outputs": [],
   "source": [
    "com.columns = ['author','times']"
   ]
  },
  {
   "cell_type": "code",
   "execution_count": 42,
   "id": "8090b853",
   "metadata": {},
   "outputs": [],
   "source": [
    "# I(Interaction_rate):Average interaction rate per video"
   ]
  },
  {
   "cell_type": "code",
   "execution_count": null,
   "id": "8c03a370",
   "metadata": {},
   "outputs": [],
   "source": [
    "#  I =（Total impeachments+Total reply)/Total view/Total videos"
   ]
  },
  {
   "cell_type": "code",
   "execution_count": 20,
   "id": "d7619fb5",
   "metadata": {},
   "outputs": [],
   "source": [
    "# Total number of impeachments"
   ]
  },
  {
   "cell_type": "code",
   "execution_count": 21,
   "id": "22d45b36",
   "metadata": {},
   "outputs": [],
   "source": [
    "danmu=df[\"danmu\"].groupby(df[\"author\"]).sum()"
   ]
  },
  {
   "cell_type": "code",
   "execution_count": 22,
   "id": "fdf4c76e",
   "metadata": {},
   "outputs": [],
   "source": [
    "# Total number of reply"
   ]
  },
  {
   "cell_type": "code",
   "execution_count": 23,
   "id": "f7e5ed30",
   "metadata": {},
   "outputs": [],
   "source": [
    "reply=df[\"reply\"].groupby(df[\"author\"]).sum()"
   ]
  },
  {
   "cell_type": "code",
   "execution_count": 24,
   "id": "9ccf67a8",
   "metadata": {},
   "outputs": [],
   "source": [
    "# Total number of view"
   ]
  },
  {
   "cell_type": "code",
   "execution_count": 25,
   "id": "6f77e998",
   "metadata": {},
   "outputs": [],
   "source": [
    "view=df[\"view\"].groupby(df[\"author\"]).sum()"
   ]
  },
  {
   "cell_type": "code",
   "execution_count": 26,
   "id": "b8e169eb",
   "metadata": {},
   "outputs": [],
   "source": [
    "# Total number of videos"
   ]
  },
  {
   "cell_type": "code",
   "execution_count": 27,
   "id": "605973da",
   "metadata": {},
   "outputs": [],
   "source": [
    "count=df[\"title\"].groupby(df[\"author\"]).count()"
   ]
  },
  {
   "cell_type": "code",
   "execution_count": 28,
   "id": "fe7744b4",
   "metadata": {},
   "outputs": [],
   "source": [
    "I = (((danmu+reply)/view/count)*100).reset_index()"
   ]
  },
  {
   "cell_type": "code",
   "execution_count": 29,
   "id": "36fc8a00",
   "metadata": {},
   "outputs": [],
   "source": [
    "I.columns=['author','I']"
   ]
  },
  {
   "cell_type": "code",
   "execution_count": 30,
   "id": "db4f94b3",
   "metadata": {},
   "outputs": [],
   "source": [
    "I = pd.merge(com,I,on=\"author\",how=\"inner\")"
   ]
  },
  {
   "cell_type": "code",
   "execution_count": 39,
   "id": "ed57ad44",
   "metadata": {},
   "outputs": [
    {
     "data": {
      "text/html": [
       "<div>\n",
       "<style scoped>\n",
       "    .dataframe tbody tr th:only-of-type {\n",
       "        vertical-align: middle;\n",
       "    }\n",
       "\n",
       "    .dataframe tbody tr th {\n",
       "        vertical-align: top;\n",
       "    }\n",
       "\n",
       "    .dataframe thead th {\n",
       "        text-align: right;\n",
       "    }\n",
       "</style>\n",
       "<table border=\"1\" class=\"dataframe\">\n",
       "  <thead>\n",
       "    <tr style=\"text-align: right;\">\n",
       "      <th></th>\n",
       "      <th>author</th>\n",
       "      <th>times</th>\n",
       "      <th>I</th>\n",
       "    </tr>\n",
       "  </thead>\n",
       "  <tbody>\n",
       "    <tr>\n",
       "      <th>0</th>\n",
       "      <td>---长征---</td>\n",
       "      <td>5</td>\n",
       "      <td>0.289673</td>\n",
       "    </tr>\n",
       "    <tr>\n",
       "      <th>1</th>\n",
       "      <td>-LCspace-</td>\n",
       "      <td>30</td>\n",
       "      <td>0.039600</td>\n",
       "    </tr>\n",
       "    <tr>\n",
       "      <th>2</th>\n",
       "      <td>-LEARNING-</td>\n",
       "      <td>66</td>\n",
       "      <td>0.032214</td>\n",
       "    </tr>\n",
       "    <tr>\n",
       "      <th>3</th>\n",
       "      <td>-TDA君-</td>\n",
       "      <td>14</td>\n",
       "      <td>0.118872</td>\n",
       "    </tr>\n",
       "    <tr>\n",
       "      <th>4</th>\n",
       "      <td>-兔星人-</td>\n",
       "      <td>22</td>\n",
       "      <td>0.181206</td>\n",
       "    </tr>\n",
       "  </tbody>\n",
       "</table>\n",
       "</div>"
      ],
      "text/plain": [
       "       author  times         I\n",
       "0    ---长征---      5  0.289673\n",
       "1   -LCspace-     30  0.039600\n",
       "2  -LEARNING-     66  0.032214\n",
       "3      -TDA君-     14  0.118872\n",
       "4       -兔星人-     22  0.181206"
      ]
     },
     "execution_count": 39,
     "metadata": {},
     "output_type": "execute_result"
    }
   ],
   "source": [
    "I.head()"
   ]
  },
  {
   "cell_type": "code",
   "execution_count": 41,
   "id": "da77d989",
   "metadata": {},
   "outputs": [],
   "source": [
    "# F(Frequence):Average release cycle for each video"
   ]
  },
  {
   "cell_type": "code",
   "execution_count": null,
   "id": "d48ccfc5",
   "metadata": {},
   "outputs": [],
   "source": [
    "# F = 1/(The date the blogger last posted the video - the date the video was first posted+1)/Total number of videos*100"
   ]
  },
  {
   "cell_type": "code",
   "execution_count": 32,
   "id": "bf6eb005",
   "metadata": {},
   "outputs": [],
   "source": [
    "df[\"date\"]=pd.to_datetime(df[\"date\"])"
   ]
  },
  {
   "cell_type": "code",
   "execution_count": 50,
   "id": "fb2c2e1c",
   "metadata": {},
   "outputs": [],
   "source": [
    "last = df[\"date\"].groupby(df[\"author\"]).max()\n",
    "late = df[\"date\"].groupby(df[\"author\"]).min()\n",
    "time_gap = (last-late).dt.days"
   ]
  },
  {
   "cell_type": "code",
   "execution_count": 51,
   "id": "332df411",
   "metadata": {},
   "outputs": [],
   "source": [
    "F = ((1/(time_gap+1)/count)*100).reset_index()"
   ]
  },
  {
   "cell_type": "code",
   "execution_count": 52,
   "id": "9abbc81d",
   "metadata": {},
   "outputs": [],
   "source": [
    "F.columns=['author','F']"
   ]
  },
  {
   "cell_type": "code",
   "execution_count": 53,
   "id": "5216b56e",
   "metadata": {},
   "outputs": [],
   "source": [
    "IF = pd.merge(I,F,on=\"author\",how=\"inner\")"
   ]
  },
  {
   "cell_type": "code",
   "execution_count": 54,
   "id": "70df8019",
   "metadata": {},
   "outputs": [
    {
     "data": {
      "text/html": [
       "<div>\n",
       "<style scoped>\n",
       "    .dataframe tbody tr th:only-of-type {\n",
       "        vertical-align: middle;\n",
       "    }\n",
       "\n",
       "    .dataframe tbody tr th {\n",
       "        vertical-align: top;\n",
       "    }\n",
       "\n",
       "    .dataframe thead th {\n",
       "        text-align: right;\n",
       "    }\n",
       "</style>\n",
       "<table border=\"1\" class=\"dataframe\">\n",
       "  <thead>\n",
       "    <tr style=\"text-align: right;\">\n",
       "      <th></th>\n",
       "      <th>author</th>\n",
       "      <th>times</th>\n",
       "      <th>I</th>\n",
       "      <th>F</th>\n",
       "    </tr>\n",
       "  </thead>\n",
       "  <tbody>\n",
       "    <tr>\n",
       "      <th>0</th>\n",
       "      <td>---长征---</td>\n",
       "      <td>5</td>\n",
       "      <td>0.289673</td>\n",
       "      <td>0.869565</td>\n",
       "    </tr>\n",
       "    <tr>\n",
       "      <th>1</th>\n",
       "      <td>-LCspace-</td>\n",
       "      <td>30</td>\n",
       "      <td>0.039600</td>\n",
       "      <td>0.023641</td>\n",
       "    </tr>\n",
       "    <tr>\n",
       "      <th>2</th>\n",
       "      <td>-LEARNING-</td>\n",
       "      <td>66</td>\n",
       "      <td>0.032214</td>\n",
       "      <td>0.017825</td>\n",
       "    </tr>\n",
       "    <tr>\n",
       "      <th>3</th>\n",
       "      <td>-TDA君-</td>\n",
       "      <td>14</td>\n",
       "      <td>0.118872</td>\n",
       "      <td>0.132275</td>\n",
       "    </tr>\n",
       "    <tr>\n",
       "      <th>4</th>\n",
       "      <td>-兔星人-</td>\n",
       "      <td>22</td>\n",
       "      <td>0.181206</td>\n",
       "      <td>0.032938</td>\n",
       "    </tr>\n",
       "  </tbody>\n",
       "</table>\n",
       "</div>"
      ],
      "text/plain": [
       "       author  times         I         F\n",
       "0    ---长征---      5  0.289673  0.869565\n",
       "1   -LCspace-     30  0.039600  0.023641\n",
       "2  -LEARNING-     66  0.032214  0.017825\n",
       "3      -TDA君-     14  0.118872  0.132275\n",
       "4       -兔星人-     22  0.181206  0.032938"
      ]
     },
     "execution_count": 54,
     "metadata": {},
     "output_type": "execute_result"
    }
   ],
   "source": [
    "IF.head()"
   ]
  },
  {
   "cell_type": "code",
   "execution_count": 43,
   "id": "ac9d9fb8",
   "metadata": {},
   "outputs": [],
   "source": [
    "# L(Like_rate):The average like rate of a video"
   ]
  },
  {
   "cell_type": "code",
   "execution_count": 44,
   "id": "08393ef8",
   "metadata": {},
   "outputs": [],
   "source": [
    "# L = (Total likes + total coins + total collections) / Total views * 100"
   ]
  },
  {
   "cell_type": "code",
   "execution_count": 55,
   "id": "e4ca1a9c",
   "metadata": {},
   "outputs": [],
   "source": [
    "likes = df[\"likes\"].groupby(df[\"author\"]).sum()\n",
    "coins = df[\"coins\"].groupby(df[\"author\"]).sum()\n",
    "favorite = df[\"favorite\"].groupby(df[\"author\"]).sum()"
   ]
  },
  {
   "cell_type": "code",
   "execution_count": 56,
   "id": "25c8efaf",
   "metadata": {},
   "outputs": [],
   "source": [
    "L = (((likes+coins+favorite)/view)*100).reset_index()"
   ]
  },
  {
   "cell_type": "code",
   "execution_count": 57,
   "id": "c08eeac3",
   "metadata": {},
   "outputs": [],
   "source": [
    "L.columns=['author','L']"
   ]
  },
  {
   "cell_type": "code",
   "execution_count": 58,
   "id": "3af6a7bb",
   "metadata": {},
   "outputs": [],
   "source": [
    "IFL = pd.merge(IF,L,on=\"author\",how=\"inner\")"
   ]
  },
  {
   "cell_type": "code",
   "execution_count": 59,
   "id": "60c7d83c",
   "metadata": {},
   "outputs": [
    {
     "data": {
      "text/html": [
       "<div>\n",
       "<style scoped>\n",
       "    .dataframe tbody tr th:only-of-type {\n",
       "        vertical-align: middle;\n",
       "    }\n",
       "\n",
       "    .dataframe tbody tr th {\n",
       "        vertical-align: top;\n",
       "    }\n",
       "\n",
       "    .dataframe thead th {\n",
       "        text-align: right;\n",
       "    }\n",
       "</style>\n",
       "<table border=\"1\" class=\"dataframe\">\n",
       "  <thead>\n",
       "    <tr style=\"text-align: right;\">\n",
       "      <th></th>\n",
       "      <th>author</th>\n",
       "      <th>times</th>\n",
       "      <th>I</th>\n",
       "      <th>F</th>\n",
       "      <th>L</th>\n",
       "    </tr>\n",
       "  </thead>\n",
       "  <tbody>\n",
       "    <tr>\n",
       "      <th>0</th>\n",
       "      <td>---长征---</td>\n",
       "      <td>5</td>\n",
       "      <td>0.289673</td>\n",
       "      <td>0.869565</td>\n",
       "      <td>5.226700</td>\n",
       "    </tr>\n",
       "    <tr>\n",
       "      <th>1</th>\n",
       "      <td>-LCspace-</td>\n",
       "      <td>30</td>\n",
       "      <td>0.039600</td>\n",
       "      <td>0.023641</td>\n",
       "      <td>5.575753</td>\n",
       "    </tr>\n",
       "    <tr>\n",
       "      <th>2</th>\n",
       "      <td>-LEARNING-</td>\n",
       "      <td>66</td>\n",
       "      <td>0.032214</td>\n",
       "      <td>0.017825</td>\n",
       "      <td>10.094694</td>\n",
       "    </tr>\n",
       "    <tr>\n",
       "      <th>3</th>\n",
       "      <td>-TDA君-</td>\n",
       "      <td>14</td>\n",
       "      <td>0.118872</td>\n",
       "      <td>0.132275</td>\n",
       "      <td>18.764483</td>\n",
       "    </tr>\n",
       "    <tr>\n",
       "      <th>4</th>\n",
       "      <td>-兔星人-</td>\n",
       "      <td>22</td>\n",
       "      <td>0.181206</td>\n",
       "      <td>0.032938</td>\n",
       "      <td>9.653177</td>\n",
       "    </tr>\n",
       "  </tbody>\n",
       "</table>\n",
       "</div>"
      ],
      "text/plain": [
       "       author  times         I         F          L\n",
       "0    ---长征---      5  0.289673  0.869565   5.226700\n",
       "1   -LCspace-     30  0.039600  0.023641   5.575753\n",
       "2  -LEARNING-     66  0.032214  0.017825  10.094694\n",
       "3      -TDA君-     14  0.118872  0.132275  18.764483\n",
       "4       -兔星人-     22  0.181206  0.032938   9.653177"
      ]
     },
     "execution_count": 59,
     "metadata": {},
     "output_type": "execute_result"
    }
   ],
   "source": [
    "IFL.head()"
   ]
  },
  {
   "cell_type": "code",
   "execution_count": 60,
   "id": "f5c199dc",
   "metadata": {},
   "outputs": [],
   "source": [
    "# Modeling processing"
   ]
  },
  {
   "cell_type": "code",
   "execution_count": 61,
   "id": "2c25b7cf",
   "metadata": {},
   "outputs": [],
   "source": [
    "IFL[\"I\"]=pd.qcut(IFL[\"I\"],q=5,labels=[1,2,3,4,5])\n",
    "IFL[\"F\"]=pd.qcut(IFL[\"F\"],q=5,labels=[1,2,3,4,5])\n",
    "IFL[\"L\"]=pd.qcut(IFL[\"L\"],q=5,labels=[1,2,3,4,5])"
   ]
  },
  {
   "cell_type": "code",
   "execution_count": 62,
   "id": "5176311b",
   "metadata": {},
   "outputs": [],
   "source": [
    "def trans(x):\n",
    "    if x>3:\n",
    "        return 1\n",
    "    else:\n",
    "        return 0"
   ]
  },
  {
   "cell_type": "code",
   "execution_count": 63,
   "id": "4aff0051",
   "metadata": {},
   "outputs": [],
   "source": [
    "IFL[\"I\"]=IFL[\"I\"].apply(trans)\n",
    "IFL[\"F\"]=IFL[\"F\"].apply(trans)\n",
    "IFL[\"L\"]=IFL[\"L\"].apply(trans)\n",
    "IFL[\"mark\"]=IFL[\"I\"].astype(str)+IFL[\"F\"].astype(str)+IFL[\"L\"].astype(str)"
   ]
  },
  {
   "cell_type": "code",
   "execution_count": 64,
   "id": "ac24eda3",
   "metadata": {},
   "outputs": [],
   "source": [
    "# Create a Zone"
   ]
  },
  {
   "cell_type": "code",
   "execution_count": 65,
   "id": "85f49214",
   "metadata": {},
   "outputs": [],
   "source": [
    "def ifltype(x):\n",
    "    if x == \"111\":\n",
    "        return \"High-quality bloggers\"\n",
    "    elif x == \"101\":\n",
    "        return \"High-quality but slow updated bloggers\"\n",
    "    elif x == \"011\":\n",
    "        return \"High-quality content bloggers\"\n",
    "    elif x == \"001\":\n",
    "        return \"High-quality content but slow updates bloggers\"\n",
    "    elif x == \"110\":\n",
    "        return \"Down to earth and active bloggers\"\n",
    "    elif x == \"100\":\n",
    "        return \"Down to earth bloggers\"\n",
    "    elif x == \"010\":\n",
    "        return \"Active bloggers\"\n",
    "    else:\n",
    "        return \"A growing bloggers\""
   ]
  },
  {
   "cell_type": "code",
   "execution_count": 66,
   "id": "68585f07",
   "metadata": {},
   "outputs": [],
   "source": [
    "IFL[\"uptype\"]=IFL[\"mark\"].apply(ifltype)\n",
    "IFL_type = IFL[\"uptype\"].groupby(IFL[\"uptype\"]).count()"
   ]
  },
  {
   "cell_type": "code",
   "execution_count": 72,
   "id": "821dc0f5",
   "metadata": {},
   "outputs": [],
   "source": [
    "import numpy as np\n",
    "import matplotlib.mlab as mlab\n",
    "import matplotlib.pyplot as plt\n",
    "plt.rcParams[\"font.sans-serif\"]=\"Times New Roman\""
   ]
  },
  {
   "cell_type": "code",
   "execution_count": 74,
   "id": "abb4f3b8",
   "metadata": {},
   "outputs": [
    {
     "data": {
      "image/png": "[encoded data removed]",
      "text/plain": [
       "<Figure size 432x288 with 1 Axes>"
      ]
     },
     "metadata": {},
     "output_type": "display_data"
    }
   ],
   "source": [
    "fig = plt.figure()\n",
    "plt.pie(IFL_type.values/com[\"author\"].count(),labels=IFL_type.index,autopct='%1.2f%%')\n",
    "plt.title('Classification and proportion of science partition bloggers')\n",
    "plt.show()"
   ]
  },
  {
   "cell_type": "code",
   "execution_count": 78,
   "id": "9acbc35f",
   "metadata": {},
   "outputs": [],
   "source": [
    "IFL.to_csv(\"C:/Users/shirl/OneDrive/Desktop/python/python projects/bilibiliIFL.csv\",index=False)"
   ]
  },
  {
   "cell_type": "code",
   "execution_count": null,
   "id": "4c7240ee",
   "metadata": {},
   "outputs": [],
   "source": []
  }
 ],
 "metadata": {
  "kernelspec": {
   "display_name": "Python 3",
   "language": "python",
   "name": "python3"
  },
  "language_info": {
   "codemirror_mode": {
    "name": "ipython",
    "version": 3
   },
   "file_extension": ".py",
   "mimetype": "text/x-python",
   "name": "python",
   "nbconvert_exporter": "python",
   "pygments_lexer": "ipython3",
   "version": "3.8.8"
  }
 },
 "nbformat": 4,
 "nbformat_minor": 5
}
